{
 "cells": [
  {
   "cell_type": "code",
   "execution_count": 9,
   "id": "d1c7456a-919f-4266-aa53-180d63a1d8ef",
   "metadata": {},
   "outputs": [
    {
     "data": {
      "image/png": "[encoded data removed]",
      "text/plain": [
       "<Figure size 60x10 with 1 Axes>"
      ]
     },
     "metadata": {},
     "output_type": "display_data"
    },
    {
     "data": {
      "image/png": "[encoded data removed]",
      "text/plain": [
       "<Figure size 60x10 with 1 Axes>"
      ]
     },
     "metadata": {},
     "output_type": "display_data"
    },
    {
     "data": {
      "image/png": "[encoded data removed]",
      "text/plain": [
       "<Figure size 60x10 with 1 Axes>"
      ]
     },
     "metadata": {},
     "output_type": "display_data"
    },
    {
     "data": {
      "image/png": "[encoded data removed]",
      "text/plain": [
       "<Figure size 60x10 with 1 Axes>"
      ]
     },
     "metadata": {},
     "output_type": "display_data"
    },
    {
     "data": {
      "image/png": "[encoded data removed]",
      "text/plain": [
       "<Figure size 60x10 with 1 Axes>"
      ]
     },
     "metadata": {},
     "output_type": "display_data"
    }
   ],
   "source": [
    "import matplotlib.pyplot as plt\n",
    "\n",
    "c0='#1d1d1d'; c1='#1e3264'; c2='#c82336'; c3='#198c71'; c4='#ef9646'; c5='#1ca9d2'\n",
    "\n",
    "legend_entries = [\n",
    "    ['solid',c1,'-',2,1],\n",
    "    ['dashdot',c2,'-.',2,1],\n",
    "    ['dash',c3,'--',2,1],\n",
    "    ['dash1',c4,'--',2,1],\n",
    "    ['dash_thick',c4,'--',3,1],\n",
    "]\n",
    "\n",
    "\n",
    "mm = 1/2.54/100\n",
    "\n",
    "for name,c,ls,lw,alpha in legend_entries:\n",
    "    plt.subplots(figsize=(.6,.1))\n",
    "    plt.plot([.05,.6-.05],[.05,.05],color=c,ls=ls,lw=lw,alpha=alpha)\n",
    "    plt.axis('off')\n",
    "\n",
    "    plt.subplots_adjust(bottom=0, top=1, left=.15, right=.85)\n",
    "    plt.savefig(f'imgs/legend/{name}.pdf')"
   ]
  },
  {
   "cell_type": "code",
   "execution_count": null,
   "id": "9a37b921-4138-4f91-a3a3-d386af5fcc2d",
   "metadata": {},
   "outputs": [],
   "source": []
  }
 ],
 "metadata": {
  "kernelspec": {
   "display_name": "Python 3 (ipykernel)",
   "language": "python",
   "name": "python3"
  },
  "language_info": {
   "codemirror_mode": {
    "name": "ipython",
    "version": 3
   },
   "file_extension": ".py",
   "mimetype": "text/x-python",
   "name": "python",
   "nbconvert_exporter": "python",
   "pygments_lexer": "ipython3",
   "version": "3.10.9"
  }
 },
 "nbformat": 4,
 "nbformat_minor": 5
}
