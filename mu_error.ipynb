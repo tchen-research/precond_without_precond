{
 "cells": [
  {
   "cell_type": "code",
   "execution_count": 1,
   "metadata": {
    "execution": {
     "iopub.execute_input": "2025-01-19T00:12:05.983848Z",
     "iopub.status.busy": "2025-01-19T00:12:05.983548Z",
     "iopub.status.idle": "2025-01-19T00:12:06.654065Z",
     "shell.execute_reply": "2025-01-19T00:12:06.653029Z"
    },
    "id": "6QDgiCw_i-mG"
   },
   "outputs": [],
   "source": [
    "import numpy as np\n",
    "import scipy as sp\n",
    "import matplotlib.pyplot as plt\n",
    "\n",
    "from bcg_code import *\n",
    "\n",
    "from IPython.display import clear_output"
   ]
  },
  {
   "cell_type": "code",
   "execution_count": 2,
   "metadata": {
    "execution": {
     "iopub.execute_input": "2025-01-19T00:12:06.658410Z",
     "iopub.status.busy": "2025-01-19T00:12:06.658012Z",
     "iopub.status.idle": "2025-01-19T00:12:06.666848Z",
     "shell.execute_reply": "2025-01-19T00:12:06.666047Z"
    },
    "id": "g8dOz3oUjKLi"
   },
   "outputs": [],
   "source": [
    "experiments = []\n",
    "\n",
    "# synthetic example with decaying eigenvalues\n",
    "Λ = np.load('matrices/fastdecay.npy')\n",
    "d = len(Λ)\n",
    "b = np.ones(d)/np.sqrt(d)\n",
    "\n",
    "l = 10\n",
    "experiments.append({'name':'fastdecay', 'Λ':Λ, 'b':b, 'ts':np.array([20],dtype='int'), 'reorth':True, 'l':l, 'μs':np.geomspace(1e-15,1e-10,25)})\n"
   ]
  },
  {
   "cell_type": "code",
   "execution_count": 3,
   "metadata": {
    "colab": {
     "base_uri": "https://localhost:8080/",
     "height": 17
    },
    "execution": {
     "iopub.execute_input": "2025-01-19T00:12:06.670905Z",
     "iopub.status.busy": "2025-01-19T00:12:06.670601Z",
     "iopub.status.idle": "2025-01-19T00:12:13.151312Z",
     "shell.execute_reply": "2025-01-19T00:12:13.150067Z"
    },
    "id": "rkUQj5wW2KsW",
    "outputId": "2ea59452-df53-47f5-f2f6-f81a73fbe322"
   },
   "outputs": [
    {
     "data": {
      "image/png": "[encoded data removed]",
      "text/plain": [
       "<Figure size 450x300 with 1 Axes>"
      ]
     },
     "metadata": {},
     "output_type": "display_data"
    }
   ],
   "source": [
    "for experiment in experiments:\n",
    "\n",
    "    name = experiment['name']\n",
    "    Λ = experiment['Λ']\n",
    "    b = experiment['b']\n",
    "    ts = experiment['ts']\n",
    "    reorth = experiment['reorth']\n",
    "    l = experiment['l']\n",
    "    μs = experiment['μs']\n",
    "\n",
    "    d = len(Λ)\n",
    "    A = sp.sparse.spdiags(Λ.reshape(1,d),[0])\n",
    "    \n",
    "    \n",
    "    # CG\n",
    "    x_CG = get_BCG_sols(A,b.reshape(d,1),ts,μs,reorth=reorth)\n",
    "    err_CG = np.full(len(μs),np.nan)\n",
    "    for j,μ in enumerate(μs):\n",
    "        x_true = (1/(Λ+μ))*b\n",
    "        e = x_true-x_CG[0,j]\n",
    "        err_CG[j] = np.linalg.norm((Λ+μ)**.5*e)/np.linalg.norm((Λ+μ)**.5*x_true)\n",
    "\n",
    "\n",
    "    # nystrom PCG\n",
    "    ss = [1,3]\n",
    "    np.random.seed(0)\n",
    "    Ω = np.random.randn(d,l)\n",
    "    \n",
    "    err_PCG = np.full((len(μs),len(ss)),np.nan)\n",
    "    for si,s in enumerate(ss):\n",
    "        U,D = nystrom(A,Ω,s)\n",
    "        for j,μ in enumerate(μs):\n",
    "            Aμ = A + μ*sp.sparse.eye(d)\n",
    "            Pμ = deflation_precond12(U,D,D[-1],μ)\n",
    "            x_PCG = get_PCG_sols(Aμ,b.reshape(d,1),Pμ,ts-s-1,reorth=reorth)\n",
    "            x_true = (1/(Λ+μ))*b\n",
    "            e = x_true-x_PCG[0]\n",
    "            err_PCG[j,si] = np.linalg.norm((Λ+μ)**.5*e)/np.linalg.norm((Λ+μ)**.5*x_true)\n",
    "\n",
    "        \n",
    "    # block CG\n",
    "    B = np.hstack([b.reshape(d,1),Ω])\n",
    "        \n",
    "    x_BCG = get_BCG_sols(A,B,ts,μs,reorth=reorth)\n",
    "    err_BCG = np.full(len(μs),np.nan)\n",
    "    for j,μ in enumerate(μs):\n",
    "        x_true = (1/(Λ+μ))*b\n",
    "        e = x_true-x_BCG[0,j]\n",
    "        err_BCG[j] = np.linalg.norm((Λ+μ)**.5*e)/np.linalg.norm((Λ+μ)**.5*x_true)\n",
    "\n",
    "\n",
    "    fig,ax = plt.subplots(1,1,figsize=(4.5,3))\n",
    "\n",
    "    si=0; s = ss[si]\n",
    "    plt.plot(μs,err_PCG[:,si],ls='--',color=c3,label=f'PCG ($s={s}$)')\n",
    "\n",
    "    si=1; s = ss[si]\n",
    "    plt.plot(μs,err_PCG[:,si],ls='--',color=c4,label=f'PCG ($s={s}$)')\n",
    "\n",
    "    \n",
    "    plt.plot(μs,err_BCG,ls='-',color=c1,label='BCG')\n",
    "    plt.plot(μs,err_CG,ls='-.',color=c2,label='CG')\n",
    "        \n",
    "    plt.title(f'\\\\texttt{{{name}}}, $d={d}$, $\\ell = {l}$, matrix loads $={ts[0]}$')\n",
    "    plt.ylabel('error')\n",
    "    plt.xlabel(f'regularization parameter $\\mu$')\n",
    "    \n",
    "    plt.xscale('log')\n",
    "    plt.yscale('log')\n",
    "    # plt.legend()\n",
    "    \n",
    "    plt.savefig(f\"imgs/mu_error_{name}.pdf\",bbox_inches='tight')\n",
    "    \n",
    "    # plt.close()"
   ]
  },
  {
   "cell_type": "code",
   "execution_count": null,
   "metadata": {},
   "outputs": [],
   "source": []
  }
 ],
 "metadata": {
  "colab": {
   "provenance": []
  },
  "kernelspec": {
   "display_name": "Python 3 (ipykernel)",
   "language": "python",
   "name": "python3"
  },
  "language_info": {
   "codemirror_mode": {
    "name": "ipython",
    "version": 3
   },
   "file_extension": ".py",
   "mimetype": "text/x-python",
   "name": "python",
   "nbconvert_exporter": "python",
   "pygments_lexer": "ipython3",
   "version": "3.10.9"
  }
 },
 "nbformat": 4,
 "nbformat_minor": 4
}
