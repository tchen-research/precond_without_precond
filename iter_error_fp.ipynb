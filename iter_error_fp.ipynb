{
 "cells": [
  {
   "cell_type": "code",
   "execution_count": 1,
   "metadata": {
    "id": "6QDgiCw_i-mG"
   },
   "outputs": [],
   "source": [
    "import numpy as np\n",
    "import scipy as sp\n",
    "import matplotlib.pyplot as plt\n",
    "\n",
    "from bcg_code import *\n",
    "\n",
    "from IPython.display import clear_output"
   ]
  },
  {
   "cell_type": "code",
   "execution_count": 2,
   "metadata": {
    "id": "g8dOz3oUjKLi"
   },
   "outputs": [],
   "source": [
    "experiments = []\n",
    "\n",
    "\n",
    "Λ = np.load('matrices/outliers20.npy')\n",
    "d = len(Λ)\n",
    "b = np.ones(d)/np.sqrt(d)\n",
    "\n",
    "l = 20\n",
    "experiments.append({'name':'outliers20', 'Λ':Λ, 'b':b, 'ts':np.arange(76,dtype='int'), 'reorth':False, 'l':l, 'μs':[0]})\n",
    "\n",
    "\n",
    "Λ = np.load('matrices/nos7.npy')\n",
    "d = len(Λ)\n",
    "b = np.ones(d)/np.sqrt(d)\n",
    "\n",
    "l = 1\n",
    "experiments.append({'name':'nos7', 'Λ':Λ, 'b':b, 'ts':np.arange(250,dtype='int'), 'reorth':False, 'l':l, 'μs':[0]})\n",
    "\n",
    "\n",
    "Λ = np.load('matrices/raefsky4.npy')+1\n",
    "d = len(Λ)\n",
    "b = np.ones(d)/np.sqrt(d)\n",
    "\n",
    "l = 10\n",
    "experiments.append({'name':'raefsky4', 'Λ':Λ, 'b':b, 'ts':np.arange(250,dtype='int'), 'reorth':False, 'l':l, 'μs':[0]})"
   ]
  },
  {
   "cell_type": "code",
   "execution_count": 3,
   "metadata": {
    "colab": {
     "base_uri": "https://localhost:8080/",
     "height": 17
    },
    "id": "rkUQj5wW2KsW",
    "outputId": "2ea59452-df53-47f5-f2f6-f81a73fbe322"
   },
   "outputs": [
    {
     "data": {
      "image/png": "[encoded data removed]",
      "text/plain": [
       "<Figure size 300x300 with 1 Axes>"
      ]
     },
     "metadata": {},
     "output_type": "display_data"
    }
   ],
   "source": [
    "for experiment in experiments:\n",
    "\n",
    "    name = experiment['name']\n",
    "    Λ = experiment['Λ']\n",
    "    b = experiment['b']\n",
    "    ts = experiment['ts']\n",
    "    reorth = experiment['reorth']\n",
    "    l = experiment['l']\n",
    "    μs = experiment['μs']\n",
    "\n",
    "    d = len(Λ)\n",
    "    A = sp.sparse.spdiags(Λ.reshape(1,d),[0])\n",
    "    x_true = np.diag(1/Λ)@b\n",
    "\n",
    "    μ = μs[0]\n",
    "    x_true = (1/(Λ+μ))*b\n",
    "\n",
    "    ss = [1,3]\n",
    "    \n",
    "    # CG\n",
    "    x_CG = get_BCG_sols(A,b.reshape(d,1),ts,μs,reorth=reorth)\n",
    "    err_CG = np.full(len(ts),np.nan)\n",
    "    for i,t in enumerate(ts):\n",
    "        e = x_true-x_CG[i,0]\n",
    "        err_CG[i] = np.linalg.norm(Λ**.5*e)/np.linalg.norm(Λ**.5*x_true)\n",
    "\n",
    "    if reorth==False:\n",
    "        reorth_max = l*max(ss)\n",
    "        \n",
    "        x_CG_pro = get_BCG_sols(A,b.reshape(d,1),ts,μs,reorth=True,reorth_max=reorth_max)\n",
    "        err_CG_pro = np.full(len(ts),np.nan)\n",
    "        for i,t in enumerate(ts):\n",
    "            e = x_true-x_CG_pro[i,0]\n",
    "            err_CG_pro[i] = np.linalg.norm(Λ**.5*e)/np.linalg.norm(Λ**.5*x_true)\n",
    "\n",
    "\n",
    "    # nystrom PCG\n",
    "    np.random.seed(0)\n",
    "    Ω = np.random.randn(d,l)\n",
    "\n",
    "    err_PCG = np.full((len(ts),len(ss)),np.nan)\n",
    "    for si,s in enumerate(ss):\n",
    "        U,D = nystrom(A,Ω,s)\n",
    "    \n",
    "        Aμ = A + μ*sp.sparse.eye(d)\n",
    "        Pμ = deflation_precond12(U,D,D[-1],μ)\n",
    "    \n",
    "        x_PCG = get_PCG_sols(Aμ,b.reshape(d,1),Pμ,ts,reorth=reorth)\n",
    "        for i,t in enumerate(ts):\n",
    "            e = x_true-x_PCG[i]\n",
    "            err_PCG[i,si] = np.linalg.norm(Λ**.5*e)/np.linalg.norm(Λ**.5*x_true)\n",
    "\n",
    "        \n",
    "    # block CG\n",
    "    B = np.hstack([b.reshape(d,1),Ω])\n",
    "\n",
    "    x_BCG = get_BCG_sols(A,B,ts,μs,reorth=reorth)\n",
    "    err_BCG = np.full(len(ts),np.nan)\n",
    "    for i,t in enumerate(ts):\n",
    "        e = x_true-x_BCG[i,0]\n",
    "        err_BCG[i] = np.linalg.norm(Λ**.5*e)/np.linalg.norm(Λ**.5*x_true)\n",
    "\n",
    "    if reorth==False:\n",
    "        reorth_max = max(ss)\n",
    "\n",
    "        x_BCG_pro = get_BCG_sols(A,B,ts,μs,reorth=True,reorth_max=reorth_max)\n",
    "        err_BCG_pro = np.full(len(ts),np.nan)\n",
    "        for i,t in enumerate(ts):\n",
    "            e = x_true-x_BCG_pro[i,0]\n",
    "            err_BCG_pro[i] = np.linalg.norm(Λ**.5*e)/np.linalg.norm(Λ**.5*x_true)\n",
    "\n",
    "\n",
    "    fig,ax = plt.subplots(1,1,figsize=(3,3))\n",
    "\n",
    "    if reorth:\n",
    "        si=0; s = ss[si]\n",
    "        mask = ts <= max(ts)-s-1\n",
    "        plt.plot(ts[mask]+s,err_PCG[mask,si],ls='--',color=c3,label=f'PCG ($s={s}$)')\n",
    "    \n",
    "    si=1; s = ss[si]\n",
    "    mask = ts <= max(ts)-s-1\n",
    "    plt.plot(ts[mask]+s,err_PCG[mask,si],ls='--',color=c4,label=f'PCG ($s={s}$)')\n",
    "\n",
    "    plt.plot(ts,err_CG,ls='-.',color=c2,label='CG',alpha=.25)\n",
    "    plt.plot(ts,err_BCG,ls='-',color=c1,label='BCG',alpha=.25)\n",
    "\n",
    "    if reorth:\n",
    "        plt.plot(ts,err_CG,ls='-.',color=c2,label='CG')\n",
    "        plt.plot(ts,err_BCG,ls='-',color=c1,label='BCG')\n",
    "    else:\n",
    "        plt.plot(ts,err_CG,ls='-.',color=c2,label='CG',alpha=.25)\n",
    "        plt.plot(ts,err_BCG,ls='-',color=c1,label='BCG',alpha=.25)\n",
    "        plt.plot(ts,err_CG_pro,ls='-.',color=c2,label='CG')\n",
    "        plt.plot(ts,err_BCG_pro,ls='-',color=c1,label='BCG')\n",
    "\n",
    "    # plt.plot(2*np.exp(-2*np.arange(t)/(np.sqrt(Λ[0]/Λ[-1]))),ls=':',color='k')\n",
    "\n",
    "    plt.title(f'\\\\texttt{{{name}}}, $d={d}$, $\\ell = {l}$')\n",
    "    plt.ylabel('error')\n",
    "    plt.xlabel(f'matrix-loads')\n",
    "    \n",
    "    plt.yscale('log')\n",
    "\n",
    "    plt.savefig(f\"imgs/iter_error_{name}_l{l}{'' if reorth else '_fp'}.pdf\",bbox_inches='tight')\n",
    "\n",
    "    # plt.close()"
   ]
  },
  {
   "cell_type": "code",
   "execution_count": null,
   "metadata": {},
   "outputs": [],
   "source": []
  },
  {
   "cell_type": "code",
   "execution_count": null,
   "metadata": {},
   "outputs": [],
   "source": []
  }
 ],
 "metadata": {
  "colab": {
   "provenance": []
  },
  "kernelspec": {
   "display_name": "Python 3 (ipykernel)",
   "language": "python",
   "name": "python3"
  },
  "language_info": {
   "codemirror_mode": {
    "name": "ipython",
    "version": 3
   },
   "file_extension": ".py",
   "mimetype": "text/x-python",
   "name": "python",
   "nbconvert_exporter": "python",
   "pygments_lexer": "ipython3",
   "version": "3.10.9"
  }
 },
 "nbformat": 4,
 "nbformat_minor": 4
}
